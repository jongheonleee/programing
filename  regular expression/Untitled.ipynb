{
 "cells": [
  {
   "cell_type": "markdown",
   "id": "7c24565d",
   "metadata": {},
   "source": [
    "# 정규 표현식"
   ]
  },
  {
   "cell_type": "code",
   "execution_count": 1,
   "id": "0391fb70",
   "metadata": {},
   "outputs": [],
   "source": [
    "import re\n",
    "\n",
    "p = re.compile('ab*')"
   ]
  },
  {
   "cell_type": "markdown",
   "id": "879214f4",
   "metadata": {},
   "source": [
    "패턴 객체 이용법 4가지\n",
    "\n",
    "> - 1. Match\n",
    "> - 2. Search\n",
    "> - 3. Findall\n",
    "> - 4. Finditer"
   ]
  },
  {
   "cell_type": "code",
   "execution_count": 5,
   "id": "cb32b4da",
   "metadata": {},
   "outputs": [
    {
     "name": "stdout",
     "output_type": "stream",
     "text": [
      "<re.Match object; span=(0, 6), match='python'>\n",
      "None\n"
     ]
    }
   ],
   "source": [
    "'''\n",
    "1. Match\n",
    "'''\n",
    "\n",
    "# 패턴 형성\n",
    "pm = re.compile('[a-z]+')\n",
    "# 문자열 인풋\n",
    "m = pm.match('python')\n",
    "m1 = pm.match('3 python')\n",
    "print(m)\n",
    "\n",
    "# m1 매치안됨\n",
    "print(m1)"
   ]
  },
  {
   "cell_type": "code",
   "execution_count": 7,
   "id": "4d9566a1",
   "metadata": {},
   "outputs": [
    {
     "name": "stdout",
     "output_type": "stream",
     "text": [
      "<re.Match object; span=(2, 8), match='python'>\n"
     ]
    }
   ],
   "source": [
    "'''\n",
    "2. Search\n",
    "'''\n",
    "\n",
    "s = pm.search('3 python')\n",
    "print(s)"
   ]
  },
  {
   "cell_type": "code",
   "execution_count": 9,
   "id": "62ef52db",
   "metadata": {},
   "outputs": [
    {
     "name": "stdout",
     "output_type": "stream",
     "text": [
      "['life', 'is', 'too', 'short']\n"
     ]
    }
   ],
   "source": [
    "'''\n",
    "3. findall\n",
    "'''\n",
    "\n",
    "fa = pm.findall('life is too short')\n",
    "print(fa)"
   ]
  },
  {
   "cell_type": "code",
   "execution_count": 11,
   "id": "81fe6ce4",
   "metadata": {},
   "outputs": [
    {
     "name": "stdout",
     "output_type": "stream",
     "text": [
      "<callable_iterator object at 0x7fe6b1fb93a0>\n",
      "<re.Match object; span=(0, 4), match='life'>\n",
      "<re.Match object; span=(5, 7), match='is'>\n",
      "<re.Match object; span=(8, 11), match='too'>\n",
      "<re.Match object; span=(12, 17), match='short'>\n"
     ]
    }
   ],
   "source": [
    "'''\n",
    "4. finditer\n",
    "'''\n",
    "\n",
    "fi = pm.finditer('life is too short')\n",
    "print(fi)\n",
    "\n",
    "for r in fi:\n",
    "    print(r)"
   ]
  },
  {
   "cell_type": "code",
   "execution_count": 12,
   "id": "73f3f80f",
   "metadata": {},
   "outputs": [
    {
     "name": "stdout",
     "output_type": "stream",
     "text": [
      "python\n",
      "0\n",
      "6\n",
      "(0, 6)\n"
     ]
    }
   ],
   "source": [
    "'''\n",
    "match 객체의 메서드 1\n",
    "> group()\n",
    "> start()\n",
    "> end()\n",
    "> span()\n",
    "'''\n",
    "\n",
    "p = re.compile('[a-z]+')\n",
    "m = p.match('python')\n",
    "\n",
    "print(m.group())\n",
    "print(m.start())\n",
    "print(m.end())\n",
    "print(m.span())"
   ]
  },
  {
   "cell_type": "markdown",
   "id": "0904c8b0",
   "metadata": {},
   "source": [
    "### 컴파일 옵션"
   ]
  },
  {
   "cell_type": "code",
   "execution_count": 16,
   "id": "e96e86c1",
   "metadata": {},
   "outputs": [
    {
     "name": "stdout",
     "output_type": "stream",
     "text": [
      "None\n",
      "<re.Match object; span=(0, 3), match='a\\nb'>\n"
     ]
    }
   ],
   "source": [
    "'''\n",
    "DOTALL, S\n",
    "'''\n",
    "\n",
    "p = re.compile('a.b')\n",
    "# .;줄바꿈을 제외한 모든 문자와 매칭\n",
    "m = p.match('a\\nb')\n",
    "print(m)\n",
    "\n",
    "# re.DOTALL(S) 위에 꺼 보완\n",
    "p = re.compile('a.b', re.DOTALL)\n",
    "m = p.match('a\\nb')\n",
    "print(m)"
   ]
  },
  {
   "cell_type": "code",
   "execution_count": 18,
   "id": "6c766dba",
   "metadata": {},
   "outputs": [
    {
     "name": "stdout",
     "output_type": "stream",
     "text": [
      "<re.Match object; span=(0, 1), match='p'>\n",
      "<re.Match object; span=(0, 1), match='P'>\n",
      "<re.Match object; span=(0, 1), match='P'>\n"
     ]
    }
   ],
   "source": [
    "'''\n",
    "IGNORECASE, I\n",
    "'''\n",
    "\n",
    "# 대소문자 무시\n",
    "p = re.compile('[a-z]', re.I)\n",
    "print(p.match('python'))\n",
    "print(p.match('Python'))\n",
    "print(p.match('PYTHON'))"
   ]
  },
  {
   "cell_type": "code",
   "execution_count": 22,
   "id": "89d9e3a1",
   "metadata": {},
   "outputs": [
    {
     "name": "stdout",
     "output_type": "stream",
     "text": [
      "['python one', 'python three']\n"
     ]
    }
   ],
   "source": [
    "'''\n",
    "MULTILINE, M\n",
    "'''\n",
    "\n",
    "# ^: 맨처음, \\s: 공백, \\w: 알파벳, 숫자, _ 중의 한 문자, +:반복\n",
    "# re.M: 줄 바꿈이 이루어진 문장도 새로운 줄로 인식함\n",
    "p = re.compile('^python\\s\\w+', re.M)\n",
    "\n",
    "data = '''python one \n",
    "life is too short\n",
    "you need python\n",
    "python three\n",
    "'''\n",
    "\n",
    "print(p.findall(data))"
   ]
  },
  {
   "cell_type": "code",
   "execution_count": 23,
   "id": "cbd949f5",
   "metadata": {},
   "outputs": [],
   "source": [
    "'''\n",
    "VERBOSE, X\n",
    "'''\n",
    "# 문자열안에 주석을 달아도 주석을 무시해주는 기능\n",
    "\n",
    "charref = re.compile(r'&[#](0[0-7]+|[0-9]+|x[0-9a-fA-F]+);')\n",
    "\n",
    "charref = re.compile(r'''\n",
    "&[#]                     # start of a numeric entity reference\n",
    "(\n",
    "    0[0-7]+              # Octal form\n",
    "    | [0-9]+             # Decimal form\n",
    "    | x[0-9a-fA-F]+      # Hexadecimal form\n",
    ")\n",
    ";                        # Trailing semicolon\n",
    "''', re.VERBOSE)"
   ]
  },
  {
   "cell_type": "markdown",
   "id": "aa76c537",
   "metadata": {},
   "source": [
    "### 백슬래시 문제"
   ]
  },
  {
   "cell_type": "code",
   "execution_count": 24,
   "id": "5fb6a273",
   "metadata": {},
   "outputs": [],
   "source": [
    "'''\n",
    "- \\\\ -> \\\n",
    "- 간소화하기\n",
    "- r'\\\\selection' 형식으로 표현\n",
    "'''\n",
    "\n",
    "# \\selection\n",
    "# 1\n",
    "p1 = re.compile('\\\\selection')\n",
    "# 2\n",
    "p2 = re.compile('\\\\\\\\selection')\n",
    "# 3\n",
    "p3 = re.compile(r'\\\\selection')"
   ]
  },
  {
   "cell_type": "markdown",
   "id": "1be64490",
   "metadata": {},
   "source": [
    "# 강력한 정규 표현식의 세계\n",
    "\n",
    "> - 1. 메타문자들\n",
    "> - 2. 그룹핑"
   ]
  },
  {
   "cell_type": "code",
   "execution_count": 25,
   "id": "b532fb1b",
   "metadata": {},
   "outputs": [
    {
     "name": "stdout",
     "output_type": "stream",
     "text": [
      "<re.Match object; span=(0, 4), match='Crow'>\n"
     ]
    }
   ],
   "source": [
    "'''\n",
    "메타문자 |\n",
    "'''\n",
    "\n",
    "# 앞에 꺼 뒤에 꺼 일치할때를 의미함\n",
    "p = re.compile('Crow|Servo')\n",
    "m = p.match('CrowHello')\n",
    "\n",
    "print(m)"
   ]
  },
  {
   "cell_type": "code",
   "execution_count": 26,
   "id": "280fae7b",
   "metadata": {},
   "outputs": [
    {
     "name": "stdout",
     "output_type": "stream",
     "text": [
      "<re.Match object; span=(0, 4), match='Life'>\n",
      "None\n"
     ]
    }
   ],
   "source": [
    "'''\n",
    "메타문자 ^\n",
    "'''\n",
    "\n",
    "# 맨 앞에 해당 문자있는지를 의미함\n",
    "print(re.search('^Life', 'Life is too short'))\n",
    "print(re.search('^Life', 'My Life'))"
   ]
  },
  {
   "cell_type": "code",
   "execution_count": 29,
   "id": "54145dca",
   "metadata": {},
   "outputs": [
    {
     "name": "stdout",
     "output_type": "stream",
     "text": [
      "<re.Match object; span=(12, 17), match='short'>\n",
      "None\n"
     ]
    }
   ],
   "source": [
    "'''\n",
    "메타문자 $\n",
    "'''\n",
    "\n",
    "# 맨 끝을 의미함\n",
    "print(re.search('short$', 'Life is too short'))\n",
    "print(re.search('short$', 'Life is too short, you need python'))"
   ]
  },
  {
   "cell_type": "code",
   "execution_count": 32,
   "id": "18ce4951",
   "metadata": {},
   "outputs": [
    {
     "name": "stdout",
     "output_type": "stream",
     "text": [
      "<re.Match object; span=(3, 8), match='class'>\n",
      "None\n",
      "None\n"
     ]
    }
   ],
   "source": [
    "'''\n",
    "메타문자 \\b\n",
    "'''\n",
    "\n",
    "# 공백을 의미함\n",
    "p = re.compile(r'\\bclass\\b')\n",
    "print(p.search('no class at all'))\n",
    "print(p.search('the declassified algorithm'))\n",
    "print(p.search('one subclass is'))"
   ]
  },
  {
   "cell_type": "code",
   "execution_count": 47,
   "id": "99dba9fe",
   "metadata": {},
   "outputs": [
    {
     "name": "stdout",
     "output_type": "stream",
     "text": [
      "<re.Match object; span=(0, 9), match='ABCABCABC'>\n",
      "ABCABCABC\n",
      "park\n",
      "the the\n",
      "park\n"
     ]
    }
   ],
   "source": [
    "'''\n",
    "그루핑 ()\n",
    "'''\n",
    "\n",
    "# 묶어주는 기능\n",
    "p = re.compile('(ABC)+')\n",
    "m = p .search('ABCABCABC OK?')\n",
    "print(m)\n",
    "print(m.group())\n",
    "\n",
    "p = re.compile(r'(\\w+)\\s+\\d+[-]\\d+[-]\\d+')\n",
    "m = p.search('park 010-1234-5678')\n",
    "# 특정 그룹핑 출력하기\n",
    "print(m.group(1))\n",
    "\n",
    "p = re.compile(r'(\\b\\w+)\\s+\\1')\n",
    "print(p.search('Paris in the the spring').group())\n",
    "\n",
    "# 그루핑된 문자열에 이름 붙이기 ?P<name>\n",
    "p = re.compile(r'(?P<name>\\w+)\\s+((\\d+)[-]\\d+[-]\\d+)')\n",
    "m = p.search('park 010-1234-1234')\n",
    "print(m.group('name'))"
   ]
  },
  {
   "cell_type": "code",
   "execution_count": 51,
   "id": "32a23b3d",
   "metadata": {},
   "outputs": [
    {
     "name": "stdout",
     "output_type": "stream",
     "text": [
      "http:\n",
      "http\n",
      "['autoexec.jpg']\n"
     ]
    }
   ],
   "source": [
    "'''\n",
    "전방탐색: 긍정형 (?=)\n",
    "'''\n",
    "p = re.compile('.+:')\n",
    "m = p.search('http://google.com')\n",
    "print(m.group())\n",
    "\n",
    "# 검색 조건에는 포함되나 결과에는 포함되지 않음\n",
    "p = re.compile('.+(?=:)')\n",
    "m = p.search('http://google.com')\n",
    "print(m.group())\n",
    "\n",
    "'''\n",
    "전방탐색: 부정형 (!=)\n",
    "'''\n",
    "\n",
    "p = re.compile('.*[.](?!bat$|exe$).*$', re.M)\n",
    "l = p.findall('''\n",
    "autoexec.exe\n",
    "autoexec.bat\n",
    "autoexec.jpg\n",
    "'''\n",
    ")\n",
    "\n",
    "print(l)"
   ]
  },
  {
   "cell_type": "code",
   "execution_count": 53,
   "id": "99b584d6",
   "metadata": {},
   "outputs": [
    {
     "data": {
      "text/plain": [
       "'colour socks and colour shoes'"
      ]
     },
     "execution_count": 53,
     "metadata": {},
     "output_type": "execute_result"
    }
   ],
   "source": [
    "'''\n",
    "문자열 바꾸기 sub\n",
    "'''\n",
    "\n",
    "p = re.compile('(blue|white|red)')\n",
    "# 두번째 파라미터에서 매칭되는 단어를 첫번째 파라미터로 바꿈 \n",
    "p.sub('colour', 'blue socks and red shoes')"
   ]
  },
  {
   "cell_type": "code",
   "execution_count": 55,
   "id": "bc10277b",
   "metadata": {},
   "outputs": [
    {
     "name": "stdout",
     "output_type": "stream",
     "text": [
      "<html><head><title>Title</title>\n",
      "<html>\n"
     ]
    }
   ],
   "source": [
    "'''\n",
    "Greedy vs Non-Greedy\n",
    "'''\n",
    "\n",
    "s = '<html><head><title>Title</title>'\n",
    "\n",
    "# Greedy\n",
    "print(re.match('<.*>', s).group())\n",
    "# Non-Greedy\n",
    "# 최소한으로 반복\n",
    "print(re.match('<.*?>', s).group())"
   ]
  },
  {
   "cell_type": "code",
   "execution_count": null,
   "id": "6aa8b8dc",
   "metadata": {},
   "outputs": [],
   "source": []
  }
 ],
 "metadata": {
  "kernelspec": {
   "display_name": "Python 3 (ipykernel)",
   "language": "python",
   "name": "python3"
  },
  "language_info": {
   "codemirror_mode": {
    "name": "ipython",
    "version": 3
   },
   "file_extension": ".py",
   "mimetype": "text/x-python",
   "name": "python",
   "nbconvert_exporter": "python",
   "pygments_lexer": "ipython3",
   "version": "3.9.12"
  }
 },
 "nbformat": 4,
 "nbformat_minor": 5
}
